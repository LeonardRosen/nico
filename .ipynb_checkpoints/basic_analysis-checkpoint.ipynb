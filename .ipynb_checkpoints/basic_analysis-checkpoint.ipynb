{
 "cells": [
  {
   "cell_type": "code",
   "execution_count": 52,
   "metadata": {},
   "outputs": [],
   "source": [
    "#\n",
    "#!pip install whatstk"
   ]
  },
  {
   "cell_type": "code",
   "execution_count": 30,
   "metadata": {},
   "outputs": [],
   "source": [
    "from whatstk import df_from_whatsapp\n",
    "import pandas as pd\n",
    "df = df_from_whatsapp(\"/Users/leonardrosen/Downloads/chat_nico_lenny.txt\")"
   ]
  },
  {
   "cell_type": "code",
   "execution_count": 53,
   "metadata": {},
   "outputs": [],
   "source": [
    "df.head(2)\n",
    "df['date'] = pd.to_datetime(df['date'])"
   ]
  },
  {
   "cell_type": "code",
   "execution_count": 54,
   "metadata": {},
   "outputs": [
    {
     "name": "stdout",
     "output_type": "stream",
     "text": [
      "Total messages: 10213\n",
      "Days active: 1478\n",
      "Average messages per day: 6.91\n"
     ]
    }
   ],
   "source": [
    "total_messages = len(df)\n",
    "days_active = (df['date'].max() - df['date'].min()).days + 1\n",
    "avg_per_day = total_messages / days_active\n",
    "\n",
    "print(f\"Total messages: {total_messages}\")\n",
    "print(f\"Days active: {days_active}\")\n",
    "print(f\"Average messages per day: {avg_per_day:.2f}\")"
   ]
  },
  {
   "cell_type": "code",
   "execution_count": 55,
   "metadata": {},
   "outputs": [
    {
     "name": "stdout",
     "output_type": "stream",
     "text": [
      "Messages per user:\n",
      "username\n",
      "Nico Soulmate    5841\n",
      "Lenny            4372\n",
      "Name: count, dtype: Int64\n"
     ]
    }
   ],
   "source": [
    "messages_per_user = df['username'].value_counts()\n",
    "print(\"Messages per user:\")\n",
    "print(messages_per_user)"
   ]
  },
  {
   "cell_type": "code",
   "execution_count": 56,
   "metadata": {},
   "outputs": [],
   "source": [
    "call_keywords = [\"call\", \"video\", \"missed\"]\n",
    "call_msgs = df[df['message'].str.lower().str.contains('|'.join(call_keywords))]"
   ]
  },
  {
   "cell_type": "code",
   "execution_count": 57,
   "metadata": {},
   "outputs": [
    {
     "name": "stdout",
     "output_type": "stream",
     "text": [
      "Call attempts by user:\n",
      "username\n",
      "Nico Soulmate    723\n",
      "Lenny            425\n",
      "Name: count, dtype: Int64\n"
     ]
    }
   ],
   "source": [
    "call_attempts = call_msgs['username'].value_counts()\n",
    "print(\"Call attempts by user:\")\n",
    "print(call_attempts)"
   ]
  },
  {
   "cell_type": "code",
   "execution_count": 59,
   "metadata": {},
   "outputs": [
    {
     "name": "stdout",
     "output_type": "stream",
     "text": [
      "Call stats (user vs. call type):\n",
      "call_type      missed  other\n",
      "username                    \n",
      "Lenny               0    425\n",
      "Nico Soulmate     367    356\n"
     ]
    }
   ],
   "source": [
    "call_msgs = call_msgs.copy()\n",
    "\n",
    "# Define classification function\n",
    "def classify_call(msg):\n",
    "    msg_lower = msg.lower()\n",
    "    if \"missed\" in msg_lower:\n",
    "        return \"missed\"\n",
    "    elif \"call started\" in msg_lower or \"video call started\" in msg_lower:\n",
    "        return \"successful\"\n",
    "    else:\n",
    "        return \"other\"\n",
    "\n",
    "# Apply classification\n",
    "call_msgs.loc[:, 'call_type'] = call_msgs['message'].apply(classify_call)\n",
    "\n",
    "# Group and pivot\n",
    "call_stats = call_msgs.groupby(['username', 'call_type']).size().unstack(fill_value=0)\n",
    "\n",
    "# Print results\n",
    "print(\"Call stats (user vs. call type):\")\n",
    "print(call_stats)"
   ]
  },
  {
   "cell_type": "code",
   "execution_count": 40,
   "metadata": {},
   "outputs": [
    {
     "name": "stdout",
     "output_type": "stream",
     "text": [
      "Total voice call time: 7532 minutes (125.53 hours)\n"
     ]
    }
   ],
   "source": [
    "import pandas as pd\n",
    "import re\n",
    "\n",
    "# Filter only \"Voice call\" messages\n",
    "voice_calls = df[df['message'].str.startswith(\"Voice call\")].copy()\n",
    "\n",
    "# Extract hours and minutes\n",
    "def extract_call_duration(msg):\n",
    "    msg = msg.lower()\n",
    "    hours = 0\n",
    "    minutes = 0\n",
    "\n",
    "    hr_match = re.search(r'(\\d+)\\s*hr', msg)\n",
    "    min_match = re.search(r'(\\d+)\\s*min', msg)\n",
    "\n",
    "    if hr_match:\n",
    "        hours = int(hr_match.group(1))\n",
    "    if min_match:\n",
    "        minutes = int(min_match.group(1))\n",
    "\n",
    "    total_minutes = hours * 60 + minutes\n",
    "    return total_minutes\n",
    "\n",
    "voice_calls['duration_min'] = voice_calls['message'].apply(extract_call_duration)\n",
    "\n",
    "# Compute totals\n",
    "total_minutes = voice_calls['duration_min'].sum()\n",
    "total_hours = total_minutes / 60\n",
    "\n",
    "print(f\"Total voice call time: {total_minutes} minutes ({total_hours:.2f} hours)\")"
   ]
  },
  {
   "cell_type": "code",
   "execution_count": 60,
   "metadata": {},
   "outputs": [],
   "source": [
    "from whatstk import WhatsAppChat, FigureBuilder\n",
    "from whatstk.graph import plot\n",
    "from whatstk.data import whatsapp_urls\n",
    "chat = WhatsAppChat.from_source(filepath=\"/Users/leonardrosen/Downloads/_chat.txt\")\n",
    "fb = FigureBuilder(chat=chat)"
   ]
  },
  {
   "cell_type": "code",
   "execution_count": 61,
   "metadata": {},
   "outputs": [
    {
     "data": {
      "text/plain": [
       "'temp-plot.html'"
      ]
     },
     "execution_count": 61,
     "metadata": {},
     "output_type": "execute_result"
    }
   ],
   "source": [
    "fig = fb.user_interventions_count_linechart()\n",
    "plot(fig)"
   ]
  },
  {
   "cell_type": "code",
   "execution_count": 66,
   "metadata": {},
   "outputs": [
    {
     "data": {
      "text/html": [
       "        <script type=\"text/javascript\">\n",
       "        window.PlotlyConfig = {MathJaxConfig: 'local'};\n",
       "        if (window.MathJax && window.MathJax.Hub && window.MathJax.Hub.Config) {window.MathJax.Hub.Config({SVG: {font: \"STIX-Web\"}});}\n",
       "        if (typeof require !== 'undefined') {\n",
       "        require.undef(\"plotly\");\n",
       "        requirejs.config({\n",
       "            paths: {\n",
       "                'plotly': ['https://cdn.plot.ly/plotly-2.30.0.min']\n",
       "            }\n",
       "        });\n",
       "        require(['plotly'], function(Plotly) {\n",
       "            window._Plotly = Plotly;\n",
       "        });\n",
       "        }\n",
       "        </script>\n",
       "        "
      ]
     },
     "metadata": {},
     "output_type": "display_data"
    },
    {
     "data": {
      "text/plain": [
       "'temp-plot.html'"
      ]
     },
     "execution_count": 66,
     "metadata": {},
     "output_type": "execute_result"
    }
   ],
   "source": [
    "import plotly.graph_objects as go\n",
    "from plotly.offline import init_notebook_mode\n",
    "\n",
    "# Initialize notebook mode\n",
    "init_notebook_mode(connected=True)\n",
    "plot(fig)"
   ]
  },
  {
   "cell_type": "code",
   "execution_count": 15,
   "metadata": {},
   "outputs": [
    {
     "data": {
      "text/plain": [
       "'temp-plot.html'"
      ]
     },
     "execution_count": 15,
     "metadata": {},
     "output_type": "execute_result"
    }
   ],
   "source": [
    "fig = fb.user_interventions_count_linechart(cumulative=True, title='User inteventions count (cumulative)')\n",
    "plot(fig)"
   ]
  },
  {
   "cell_type": "code",
   "execution_count": 16,
   "metadata": {},
   "outputs": [
    {
     "data": {
      "text/plain": [
       "'temp-plot.html'"
      ]
     },
     "execution_count": 16,
     "metadata": {},
     "output_type": "execute_result"
    }
   ],
   "source": [
    "fig = fb.user_interventions_count_linechart(msg_length=True, cumulative=True, title='Characters sent by user (cumulative)')\n",
    "plot(fig)"
   ]
  },
  {
   "cell_type": "code",
   "execution_count": 19,
   "metadata": {},
   "outputs": [
    {
     "data": {
      "text/plain": [
       "'temp-plot.html'"
      ]
     },
     "execution_count": 19,
     "metadata": {},
     "output_type": "execute_result"
    }
   ],
   "source": [
    "fig = fb.user_interventions_count_linechart(date_mode='weekday', title='User interventions count (weekly)', xlabel='Week day')\n",
    "plot(fig)"
   ]
  },
  {
   "cell_type": "code",
   "execution_count": 43,
   "metadata": {},
   "outputs": [
    {
     "name": "stdout",
     "output_type": "stream",
     "text": [
      "Voice Call Stats per Person:\n",
      "               total_minutes  call_count  total_hours\n",
      "username                                             \n",
      "Lenny                   3126         358    52.100000\n",
      "Nico Soulmate           4406         258    73.433333\n"
     ]
    },
    {
     "data": {
      "image/png": "[encoded data removed]",
      "text/plain": [
       "<Figure size 800x400 with 1 Axes>"
      ]
     },
     "metadata": {},
     "output_type": "display_data"
    }
   ],
   "source": [
    "import pandas as pd\n",
    "import re\n",
    "import matplotlib.pyplot as plt\n",
    "\n",
    "# Ensure date column is datetime\n",
    "df['date'] = pd.to_datetime(df['date'])\n",
    "\n",
    "# 1. Filter only \"Voice call\" messages\n",
    "voice_calls = df[df['message'].str.lower().str.startswith(\"voice call\")].copy()\n",
    "\n",
    "# 2. Extract call duration from message\n",
    "def extract_call_duration(msg):\n",
    "    msg = msg.lower()\n",
    "    hours = 0\n",
    "    minutes = 0\n",
    "\n",
    "    hr_match = re.search(r'(\\d+)\\s*hr', msg)\n",
    "    min_match = re.search(r'(\\d+)\\s*min', msg)\n",
    "\n",
    "    if hr_match:\n",
    "        hours = int(hr_match.group(1))\n",
    "    if min_match:\n",
    "        minutes = int(min_match.group(1))\n",
    "\n",
    "    total_minutes = hours * 60 + minutes\n",
    "    return total_minutes\n",
    "\n",
    "voice_calls['duration_min'] = voice_calls['message'].apply(extract_call_duration)\n",
    "\n",
    "# 3. Aggregate by username\n",
    "call_stats = voice_calls.groupby('username')['duration_min'].agg(['sum', 'count']).rename(\n",
    "    columns={'sum': 'total_minutes', 'count': 'call_count'}\n",
    ")\n",
    "\n",
    "# 4. Add hours for convenience\n",
    "call_stats['total_hours'] = call_stats['total_minutes'] / 60\n",
    "\n",
    "print(\"Voice Call Stats per Person:\")\n",
    "print(call_stats)\n",
    "\n",
    "# 5. Plot: Total call minutes per person\n",
    "call_stats['total_minutes'].plot(kind='barh', figsize=(8, 4))\n",
    "plt.xlabel(\"Total Minutes on Voice Calls\")\n",
    "plt.title(\"Voice Call Duration by Person initiating\")\n",
    "plt.tight_layout()\n",
    "plt.show()"
   ]
  },
  {
   "cell_type": "code",
   "execution_count": 48,
   "metadata": {},
   "outputs": [
    {
     "data": {
      "image/png": "[encoded data removed]",
      "text/plain": [
       "<Figure size 800x400 with 1 Axes>"
      ]
     },
     "metadata": {},
     "output_type": "display_data"
    },
    {
     "name": "stdout",
     "output_type": "stream",
     "text": [
      "Unsuccessful call attempts:\n",
      "\n",
      "call_direction\n",
      "Nico Soulmate → missed by Lenny    361\n",
      "Lenny → missed by Nico Soulmate    192\n",
      "Name: count, dtype: int64\n"
     ]
    }
   ],
   "source": [
    "import pandas as pd\n",
    "import matplotlib.pyplot as plt\n",
    "import re\n",
    "\n",
    "# Ensure datetime\n",
    "df['date'] = pd.to_datetime(df['date'])\n",
    "\n",
    "# STEP 1: Normalize messages by removing weird Unicode characters\n",
    "def clean_message(msg):\n",
    "    # Remove invisible Unicode characters (zero-width space, LRM, etc.)\n",
    "    return re.sub(r'[\\u200e\\u200f\\u202a-\\u202e]', '', msg).strip().lower()\n",
    "\n",
    "df['clean_msg'] = df['message'].apply(clean_message)\n",
    "\n",
    "# STEP 2: Filter missed voice calls\n",
    "missed_calls_df = df[df['clean_msg'].str.contains(\"voice call. no answer|missed voice call\")].copy()\n",
    "\n",
    "# STEP 3: Identify direction\n",
    "# Replace 'YourName' and 'FriendName' as needed\n",
    "your_name = \"Lenny\"\n",
    "friend_name = \"Nico Soulmate\"\n",
    "\n",
    "def classify_direction(row):\n",
    "    msg = row['clean_msg']\n",
    "    sender = row['username']\n",
    "    \n",
    "    if \"voice call. no answer\" in msg:\n",
    "        # You initiated a call, they didn't answer\n",
    "        if sender == your_name:\n",
    "            return f\"{your_name} → missed by {friend_name}\"\n",
    "    elif \"missed voice call\" in msg:\n",
    "        # They called you, you missed it\n",
    "        if sender == friend_name:\n",
    "            return f\"{friend_name} → missed by {your_name}\"\n",
    "    \n",
    "    return \"unknown\"\n",
    "\n",
    "missed_calls_df['call_direction'] = missed_calls_df.apply(classify_direction, axis=1)\n",
    "\n",
    "# STEP 4: Count and plot\n",
    "counts = missed_calls_df['call_direction'].value_counts()\n",
    "\n",
    "# Drop 'unknown' if any\n",
    "counts = counts[counts.index != \"unknown\"]\n",
    "\n",
    "# Plot\n",
    "counts.plot(kind='barh', figsize=(8, 4))\n",
    "plt.title(\"Unsuccessful Voice Call Attempts\")\n",
    "plt.xlabel(\"Number of Calls\")\n",
    "plt.tight_layout()\n",
    "plt.show()\n",
    "\n",
    "# Print breakdown\n",
    "print(\"Unsuccessful call attempts:\\n\")\n",
    "print(counts)"
   ]
  },
  {
   "cell_type": "code",
   "execution_count": null,
   "metadata": {},
   "outputs": [],
   "source": []
  }
 ],
 "metadata": {
  "kernelspec": {
   "display_name": "Python 3 (ipykernel)",
   "language": "python",
   "name": "python3"
  },
  "language_info": {
   "codemirror_mode": {
    "name": "ipython",
    "version": 3
   },
   "file_extension": ".py",
   "mimetype": "text/x-python",
   "name": "python",
   "nbconvert_exporter": "python",
   "pygments_lexer": "ipython3",
   "version": "3.12.2"
  }
 },
 "nbformat": 4,
 "nbformat_minor": 4
}
