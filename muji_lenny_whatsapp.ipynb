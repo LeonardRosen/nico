{
 "cells": [
  {
   "cell_type": "code",
   "execution_count": 1,
   "metadata": {},
   "outputs": [],
   "source": [
    "#\n",
    "#!pip install whatstk"
   ]
  },
  {
   "cell_type": "code",
   "execution_count": 37,
   "metadata": {},
   "outputs": [
    {
     "name": "stdout",
     "output_type": "stream",
     "text": [
      "                 date       username                              message\n",
      "0 2023-12-11 10:06:14  MuGPT Premium                          How's my bb\n",
      "1 2023-12-11 10:06:17  MuGPT Premium            I just got back to Berlin\n",
      "2 2023-12-11 10:21:46          Lenny                        image omitted\n",
      "3 2023-12-11 10:22:09  MuGPT Premium                                Cutee\n",
      "4 2023-12-11 10:22:16  MuGPT Premium  Jealous that the weather is so good\n"
     ]
    }
   ],
   "source": [
    "import pandas as pd\n",
    "import re\n",
    "\n",
    "# Load the entire file\n",
    "with open(\"/Users/leonardrosen/Documents/Projects/nico/data/chat_muji_lenny.txt\", \"r\", encoding=\"utf-8\") as file:\n",
    "    text = file.read()\n",
    "\n",
    "# Clean up unicode RTL marks (optional but helpful)\n",
    "text = text.replace('\\u200e', '')\n",
    "\n",
    "# Pattern that matches entire messages\n",
    "pattern = re.compile(\n",
    "    r'\\[(\\d{2}\\.\\d{2}\\.\\d{2}), (\\d{2}:\\d{2}:\\d{2})\\] (.*?): (.*?)(?=\\n\\[\\d{2}\\.\\d{2}\\.\\d{2}, \\d{2}:\\d{2}:\\d{2}\\]|\\Z)', \n",
    "    re.DOTALL\n",
    ")\n",
    "\n",
    "# Extract matches\n",
    "records = []\n",
    "for match in pattern.finditer(text):\n",
    "    date_str, time_str, sender, message = match.groups()\n",
    "    timestamp = f\"{date_str} {time_str}\"\n",
    "    records.append((timestamp, sender.strip(), message.strip()))\n",
    "\n",
    "# Build DataFrame\n",
    "df = pd.DataFrame(records, columns=[\"date\", \"username\", \"message\"])\n",
    "df[\"date\"] = pd.to_datetime(df[\"date\"], format=\"%d.%m.%y %H:%M:%S\")\n",
    "\n",
    "print(df.head())"
   ]
  },
  {
   "cell_type": "code",
   "execution_count": null,
   "metadata": {},
   "outputs": [
    {
     "name": "stdout",
     "output_type": "stream",
     "text": [
      "MuGPT Premium is the bigger simp!\n",
      "MuGPT Premium writes: 'love' 218 times\n",
      "while Lenny only wrote it 147. thats only 40.27% of all mentions.\n",
      "MuGPT Premium has the most anxious attachment style!\n",
      "MuGPT Premium writes: 'miss you' 197 times\n",
      "while Lenny only wrote it 77. thats only 28.10% of all mentions.\n",
      "Lenny seems like a bigger stinky!\n",
      "Lenny writes: 'stinky' 81 times\n",
      "while MuGPT Premium only wrote it 29. thats only 26.36% of all mentions.\n",
      "MuGPT Premium has the most pretty baby!\n",
      "MuGPT Premium writes: 'pretty' 55 times\n",
      "while Lenny only wrote it 18. thats only 24.66% of all mentions.\n",
      "Lenny has the most beautiful baby!\n",
      "Lenny writes: 'beautiful' 6 times\n",
      "while MuGPT Premium only wrote it 3. thats only 33.33% of all mentions.\n",
      "MuGPT Premium 'babies' the most!\n",
      "MuGPT Premium writes: 'baby' 466 times\n",
      "while Lenny only wrote it 79. thats only 14.50% of all mentions.\n",
      "MuGPT Premium sends more images!\n",
      "MuGPT Premium writes: 'image omitted' 1289 times\n",
      "while Lenny only wrote it 982. thats only 43.24% of all mentions.\n",
      "MuGPT Premium is the hornier!\n",
      "MuGPT Premium writes: 'horny' 74 times\n",
      "while Lenny only wrote it 21. thats only 22.11% of all mentions.\n",
      "MuGPT Premium has the hottest bb!\n",
      "MuGPT Premium writes: 'hot' 102 times\n",
      "while Lenny only wrote it 76. thats only 42.70% of all mentions.\n"
     ]
    }
   ],
   "source": [
    "## who is the bigger simp?\n",
    "\n",
    "def count_sentence(user, string):\n",
    "    \"\"\"\n",
    "    Count the number of times a specific string appears in messages from a specific user.\n",
    "    \"\"\"\n",
    "    return df.query(\"username == @user and message.str.contains(@string, na=False)\", engine=\"python\").shape[0]\n",
    "\n",
    "\n",
    "def count_sentence_over_time(user, string):\n",
    "    \"\"\"\n",
    "    Count the number of times a specific string appears in messages from a specific user.\n",
    "    \"\"\"\n",
    "    df = df.query(\"username == @user and message.str.contains(@string, na=False)\", engine=\"python\")\n",
    "    \n",
    "    return \n",
    "\n",
    "\n",
    "def analyse_string(person1, person2, string_in_question, meaning):\n",
    "    \"\"\"\n",
    "    Analyse the number of times a specific string appears in messages from two users.\n",
    "    \"\"\"\n",
    "    count1 = count_sentence(person1, string_in_question)\n",
    "    count2 = count_sentence(person2, string_in_question)\n",
    "\n",
    "    if count1 >= count2:\n",
    "        max_simp, max_count = person1, count1\n",
    "        min_simp, min_count = person2, count2\n",
    "    else:\n",
    "        max_simp, max_count = person2, count2\n",
    "        min_simp, min_count = person1, count1\n",
    "\n",
    "    print(f\"{max_simp} {meaning}!\\n{max_simp} writes: '{string_in_question}' {max_count} times\\nwhile {min_simp} only wrote it {min_count}. thats only {min_count/(min_count+max_count)*100:.2f}% of all mentions.\")\n",
    "\n",
    "checks = [(\"love\", \"is the bigger simp\"), \n",
    "          (\"miss you\", \"has the most anxious attachment style\"), \n",
    "          (\"stinky\", \"seems like a bigger stinky\"),\n",
    "          (\"pretty\", \"has the most pretty baby\"),\n",
    "          (\"beautiful\", \"has the most beautiful baby\"),\n",
    "          (\"baby\", \"'babies' the most\"),\n",
    "          (\"image omitted\", \"sends more images\"),\n",
    "          (\"horny\", \"is the hornier\"),\n",
    "          (\"hot\", \"has the hottest bb\"),]\n",
    "\n",
    "me = 'Lenny'\n",
    "Muji = 'MuGPT Premium'\n",
    "for string, meaning in checks:\n",
    "    analyse_string(Muji, me, string, meaning)"
   ]
  },
  {
   "cell_type": "code",
   "execution_count": 102,
   "metadata": {},
   "outputs": [
    {
     "data": {
      "text/html": [
       "<div>\n",
       "<style scoped>\n",
       "    .dataframe tbody tr th:only-of-type {\n",
       "        vertical-align: middle;\n",
       "    }\n",
       "\n",
       "    .dataframe tbody tr th {\n",
       "        vertical-align: top;\n",
       "    }\n",
       "\n",
       "    .dataframe thead th {\n",
       "        text-align: right;\n",
       "    }\n",
       "</style>\n",
       "<table border=\"1\" class=\"dataframe\">\n",
       "  <thead>\n",
       "    <tr style=\"text-align: right;\">\n",
       "      <th></th>\n",
       "      <th>date</th>\n",
       "      <th>username</th>\n",
       "      <th>message</th>\n",
       "    </tr>\n",
       "  </thead>\n",
       "  <tbody>\n",
       "    <tr>\n",
       "      <th>0</th>\n",
       "      <td>2023-12-11 10:06:14</td>\n",
       "      <td>MuGPT Premium</td>\n",
       "      <td>How's my bb</td>\n",
       "    </tr>\n",
       "    <tr>\n",
       "      <th>1</th>\n",
       "      <td>2023-12-11 10:06:17</td>\n",
       "      <td>MuGPT Premium</td>\n",
       "      <td>I just got back to Berlin</td>\n",
       "    </tr>\n",
       "    <tr>\n",
       "      <th>2</th>\n",
       "      <td>2023-12-11 10:21:46</td>\n",
       "      <td>Lenny</td>\n",
       "      <td>image omitted</td>\n",
       "    </tr>\n",
       "    <tr>\n",
       "      <th>3</th>\n",
       "      <td>2023-12-11 10:22:09</td>\n",
       "      <td>MuGPT Premium</td>\n",
       "      <td>Cutee</td>\n",
       "    </tr>\n",
       "    <tr>\n",
       "      <th>4</th>\n",
       "      <td>2023-12-11 10:22:16</td>\n",
       "      <td>MuGPT Premium</td>\n",
       "      <td>Jealous that the weather is so good</td>\n",
       "    </tr>\n",
       "    <tr>\n",
       "      <th>...</th>\n",
       "      <td>...</td>\n",
       "      <td>...</td>\n",
       "      <td>...</td>\n",
       "    </tr>\n",
       "    <tr>\n",
       "      <th>27875</th>\n",
       "      <td>2025-07-18 12:06:13</td>\n",
       "      <td>Lenny</td>\n",
       "      <td>lets talk again after lunch depends on where I...</td>\n",
       "    </tr>\n",
       "    <tr>\n",
       "      <th>27876</th>\n",
       "      <td>2025-07-18 12:06:21</td>\n",
       "      <td>Lenny</td>\n",
       "      <td>when are we going to shin and ferdi</td>\n",
       "    </tr>\n",
       "    <tr>\n",
       "      <th>27877</th>\n",
       "      <td>2025-07-18 12:06:26</td>\n",
       "      <td>MuGPT Premium</td>\n",
       "      <td>7?</td>\n",
       "    </tr>\n",
       "    <tr>\n",
       "      <th>27878</th>\n",
       "      <td>2025-07-18 12:06:30</td>\n",
       "      <td>MuGPT Premium</td>\n",
       "      <td>it starts at 6</td>\n",
       "    </tr>\n",
       "    <tr>\n",
       "      <th>27879</th>\n",
       "      <td>2025-07-18 12:15:25</td>\n",
       "      <td>Lenny</td>\n",
       "      <td>Sounds good ms bb</td>\n",
       "    </tr>\n",
       "  </tbody>\n",
       "</table>\n",
       "<p>27880 rows × 3 columns</p>\n",
       "</div>"
      ],
      "text/plain": [
       "                     date       username  \\\n",
       "0     2023-12-11 10:06:14  MuGPT Premium   \n",
       "1     2023-12-11 10:06:17  MuGPT Premium   \n",
       "2     2023-12-11 10:21:46          Lenny   \n",
       "3     2023-12-11 10:22:09  MuGPT Premium   \n",
       "4     2023-12-11 10:22:16  MuGPT Premium   \n",
       "...                   ...            ...   \n",
       "27875 2025-07-18 12:06:13          Lenny   \n",
       "27876 2025-07-18 12:06:21          Lenny   \n",
       "27877 2025-07-18 12:06:26  MuGPT Premium   \n",
       "27878 2025-07-18 12:06:30  MuGPT Premium   \n",
       "27879 2025-07-18 12:15:25          Lenny   \n",
       "\n",
       "                                                 message  \n",
       "0                                            How's my bb  \n",
       "1                              I just got back to Berlin  \n",
       "2                                          image omitted  \n",
       "3                                                  Cutee  \n",
       "4                    Jealous that the weather is so good  \n",
       "...                                                  ...  \n",
       "27875  lets talk again after lunch depends on where I...  \n",
       "27876                when are we going to shin and ferdi  \n",
       "27877                                                 7?  \n",
       "27878                                     it starts at 6  \n",
       "27879                                  Sounds good ms bb  \n",
       "\n",
       "[27880 rows x 3 columns]"
      ]
     },
     "execution_count": 102,
     "metadata": {},
     "output_type": "execute_result"
    }
   ],
   "source": [
    "df"
   ]
  },
  {
   "cell_type": "code",
   "execution_count": 119,
   "metadata": {},
   "outputs": [
    {
     "name": "stderr",
     "output_type": "stream",
     "text": [
      "/var/folders/gy/wz83llgx6jbf0bd7clsycps00000gn/T/ipykernel_45132/1805463637.py:4: SettingWithCopyWarning:\n",
      "\n",
      "\n",
      "A value is trying to be set on a copy of a slice from a DataFrame.\n",
      "Try using .loc[row_indexer,col_indexer] = value instead\n",
      "\n",
      "See the caveats in the documentation: https://pandas.pydata.org/pandas-docs/stable/user_guide/indexing.html#returning-a-view-versus-a-copy\n",
      "\n",
      "/var/folders/gy/wz83llgx6jbf0bd7clsycps00000gn/T/ipykernel_45132/1805463637.py:8: FutureWarning:\n",
      "\n",
      "'M' is deprecated and will be removed in a future version, please use 'ME' instead.\n",
      "\n"
     ]
    },
    {
     "data": {
      "image/png": "[encoded data removed]",
      "text/plain": [
       "<Figure size 1200x600 with 1 Axes>"
      ]
     },
     "metadata": {},
     "output_type": "display_data"
    }
   ],
   "source": [
    "import matplotlib.pyplot as plt\n",
    "string = \"Love\"\n",
    "filtered_df = df[df['message'].str.contains(string, na=False, case=False)]\n",
    "filtered_df['date'] = pd.to_datetime(filtered_df['date'])\n",
    "phrase_counts = (\n",
    "    filtered_df\n",
    "    .set_index('date')\n",
    "    .groupby([pd.Grouper(freq='M'), 'username'])\n",
    "    .size()\n",
    "    .reset_index(name='count')\n",
    ")\n",
    "\n",
    "\n",
    "# Pivot to have usernames as columns for easier plotting\n",
    "pivot_df = phrase_counts.pivot(index='date', columns='username', values='count').fillna(0)\n",
    "\n",
    "pivot_df.plot(figsize=(12, 6))\n",
    "plt.title(f\"Frequency of phrase '{string}' over time by user\")\n",
    "plt.ylabel(\"Count\")\n",
    "plt.xlabel(\"Time\")\n",
    "plt.legend(title=\"Username\")\n",
    "plt.tight_layout()\n",
    "plt.show()"
   ]
  },
  {
   "cell_type": "code",
   "execution_count": 67,
   "metadata": {},
   "outputs": [
    {
     "data": {
      "text/plain": [
       "124"
      ]
     },
     "execution_count": 67,
     "metadata": {},
     "output_type": "execute_result"
    }
   ],
   "source": [
    "count_sentence(Muji, string_in_question)"
   ]
  },
  {
   "cell_type": "code",
   "execution_count": null,
   "metadata": {},
   "outputs": [
    {
     "ename": "SyntaxError",
     "evalue": "unmatched ')' (172103156.py, line 10)",
     "output_type": "error",
     "traceback": [
      "  \u001b[36mCell\u001b[39m\u001b[36m \u001b[39m\u001b[32mIn[54]\u001b[39m\u001b[32m, line 10\u001b[39m\n\u001b[31m    \u001b[39m\u001b[31m)))\u001b[39m\n      ^\n\u001b[31mSyntaxError\u001b[39m\u001b[31m:\u001b[39m unmatched ')'\n"
     ]
    }
   ],
   "source": [
    "from IPython.display import display, HTML\n",
    "\n",
    "# Set max rows to display\n",
    "pd.set_option('display.max_rows', 200)\n",
    "\n",
    "# Render DataFrame inside scrollable <div>\n",
    "display(HTML(df.query(\"message.str.contains('missed', na=False)\", engine=\"python\").head(200).to_html(max_rows=200, notebook=True, escape=False, \n",
    "    classes='table table-striped table-hover', \n",
    "    border=0, \n",
    ")))\n",
    "\n",
    "# Optional: add scroll styling manually if needed\n",
    "# display(HTML('<div style=\"height: 400px; overflow: auto;\">' + df.head(200).to_html() + '</div>'))"
   ]
  },
  {
   "cell_type": "code",
   "execution_count": 99,
   "metadata": {},
   "outputs": [
    {
     "ename": "AttributeError",
     "evalue": "'LinkedList' object has no attribute 'add'",
     "output_type": "error",
     "traceback": [
      "\u001b[31m---------------------------------------------------------------------------\u001b[39m",
      "\u001b[31mAttributeError\u001b[39m                            Traceback (most recent call last)",
      "\u001b[36mCell\u001b[39m\u001b[36m \u001b[39m\u001b[32mIn[99]\u001b[39m\u001b[32m, line 31\u001b[39m\n\u001b[32m     29\u001b[39m         \u001b[38;5;28;01mreturn\u001b[39;00m \u001b[33m\"\u001b[39m\u001b[33m -> \u001b[39m\u001b[33m\"\u001b[39m.join(nodes)\n\u001b[32m     30\u001b[39m ll = LinkedList()\n\u001b[32m---> \u001b[39m\u001b[32m31\u001b[39m \u001b[43mll\u001b[49m\u001b[43m.\u001b[49m\u001b[43madd\u001b[49m(\u001b[33m\"\u001b[39m\u001b[33mfirst\u001b[39m\u001b[33m\"\u001b[39m)\n\u001b[32m     32\u001b[39m ll.add(\u001b[33m\"\u001b[39m\u001b[33msecond\u001b[39m\u001b[33m\"\u001b[39m)\n\u001b[32m     33\u001b[39m ll.add(\u001b[33m\"\u001b[39m\u001b[33mthird\u001b[39m\u001b[33m\"\u001b[39m)\n",
      "\u001b[31mAttributeError\u001b[39m: 'LinkedList' object has no attribute 'add'"
     ]
    }
   ],
   "source": [
    "class Node:\n",
    "    def __init__(self, val):\n",
    "        self.val = val\n",
    "        self.next = None\n",
    "\n",
    "    def set_next(self, node):\n",
    "        self.next = node\n",
    "\n",
    "    def __repr__(self):\n",
    "        return self.val\n",
    "class LinkedList:\n",
    "    def __init__(self):\n",
    "        self.head = None\n",
    "\n",
    "    def __iter__(self):\n",
    "        node = self.head\n",
    "        while node:\n",
    "            yield node\n",
    "            node = self.head\n",
    "\n",
    "    # don't touch below this line\n",
    "\n",
    "    def __repr__(self):\n",
    "        nodes = []\n",
    "        current = self.head\n",
    "        while current and hasattr(current, \"val\"):\n",
    "            nodes.append(current.val)\n",
    "            current = current.next\n",
    "        return \" -> \".join(nodes)\n",
    "ll = LinkedList()\n",
    "ll.add(\"first\")\n",
    "ll.add(\"second\")\n",
    "ll.add(\"third\")\n",
    "for val in ll:\n",
    "    print(val)\n",
    "\n",
    "\n",
    "\n",
    "\n",
    "\n"
   ]
  },
  {
   "cell_type": "code",
   "execution_count": 55,
   "metadata": {},
   "outputs": [],
   "source": [
    "df.head(2)\n",
    "df['date'] = pd.to_datetime(df['date'])"
   ]
  },
  {
   "cell_type": "code",
   "execution_count": 40,
   "metadata": {},
   "outputs": [
    {
     "name": "stdout",
     "output_type": "stream",
     "text": [
      "Total messages: 27880\n",
      "Days active: 586\n",
      "Average messages per day: 47.58\n"
     ]
    }
   ],
   "source": [
    "total_messages = len(df)\n",
    "days_active = (df['date'].max() - df['date'].min()).days + 1\n",
    "avg_per_day = total_messages / days_active\n",
    "\n",
    "print(f\"Total messages: {total_messages}\")\n",
    "print(f\"Days active: {days_active}\")\n",
    "print(f\"Average messages per day: {avg_per_day:.2f}\")"
   ]
  },
  {
   "cell_type": "code",
   "execution_count": 41,
   "metadata": {},
   "outputs": [
    {
     "name": "stdout",
     "output_type": "stream",
     "text": [
      "Messages per user:\n",
      "username\n",
      "MuGPT Premium    16669\n",
      "Lenny            11211\n",
      "Name: count, dtype: int64\n"
     ]
    }
   ],
   "source": [
    "messages_per_user = df['username'].value_counts()\n",
    "print(\"Messages per user:\")\n",
    "print(messages_per_user)"
   ]
  },
  {
   "cell_type": "code",
   "execution_count": 42,
   "metadata": {},
   "outputs": [],
   "source": [
    "call_keywords = [\"call\", \"video\", \"missed\"]\n",
    "call_msgs = df[df['message'].str.lower().str.contains('|'.join(call_keywords))]"
   ]
  },
  {
   "cell_type": "code",
   "execution_count": 43,
   "metadata": {},
   "outputs": [
    {
     "name": "stdout",
     "output_type": "stream",
     "text": [
      "Call attempts by user:\n",
      "username\n",
      "MuGPT Premium    900\n",
      "Lenny            285\n",
      "Name: count, dtype: int64\n"
     ]
    }
   ],
   "source": [
    "call_attempts = call_msgs['username'].value_counts()\n",
    "print(\"Call attempts by user:\")\n",
    "print(call_attempts)"
   ]
  },
  {
   "cell_type": "code",
   "execution_count": 44,
   "metadata": {},
   "outputs": [],
   "source": [
    "import re\n",
    "from src.utils import classify_call, extract_call_duration, classify_direction, clean_message"
   ]
  },
  {
   "cell_type": "code",
   "execution_count": 45,
   "metadata": {},
   "outputs": [
    {
     "name": "stdout",
     "output_type": "stream",
     "text": [
      "Call stats (user vs. call type):\n",
      "call_type      missed  other\n",
      "username                    \n",
      "Lenny              10    275\n",
      "MuGPT Premium     433    467\n"
     ]
    }
   ],
   "source": [
    "call_msgs = call_msgs.copy()\n",
    "\n",
    "call_msgs.loc[:, 'call_type'] = call_msgs['message'].apply(classify_call)\n",
    "\n",
    "call_stats = call_msgs.groupby(['username', 'call_type']).size().unstack(fill_value=0)\n",
    "\n",
    "print(\"Call stats (user vs. call type):\")\n",
    "print(call_stats)"
   ]
  },
  {
   "cell_type": "code",
   "execution_count": 46,
   "metadata": {},
   "outputs": [
    {
     "name": "stdout",
     "output_type": "stream",
     "text": [
      "Total voice call time: 36 minutes (0.60 hours)\n"
     ]
    }
   ],
   "source": [
    "\n",
    "voice_calls = df[df['message'].str.startswith(\"Voice call\")].copy()\n",
    "voice_calls['duration_min'] = voice_calls['message'].apply(extract_call_duration)\n",
    "\n",
    "total_minutes = voice_calls['duration_min'].sum()\n",
    "total_hours = total_minutes / 60\n",
    "\n",
    "print(f\"Total voice call time: {total_minutes} minutes ({total_hours:.2f} hours)\")"
   ]
  },
  {
   "cell_type": "code",
   "execution_count": 20,
   "metadata": {},
   "outputs": [
    {
     "data": {
      "text/plain": [
       "'temp-plot.html'"
      ]
     },
     "execution_count": 20,
     "metadata": {},
     "output_type": "execute_result"
    }
   ],
   "source": [
    "fig = fb.user_interventions_count_linechart()\n",
    "plot(fig)"
   ]
  },
  {
   "cell_type": "code",
   "execution_count": 21,
   "metadata": {},
   "outputs": [
    {
     "data": {
      "text/html": [
       "        <script type=\"text/javascript\">\n",
       "        window.PlotlyConfig = {MathJaxConfig: 'local'};\n",
       "        if (window.MathJax && window.MathJax.Hub && window.MathJax.Hub.Config) {window.MathJax.Hub.Config({SVG: {font: \"STIX-Web\"}});}\n",
       "        if (typeof require !== 'undefined') {\n",
       "        require.undef(\"plotly\");\n",
       "        requirejs.config({\n",
       "            paths: {\n",
       "                'plotly': ['https://cdn.plot.ly/plotly-2.30.0.min']\n",
       "            }\n",
       "        });\n",
       "        require(['plotly'], function(Plotly) {\n",
       "            window._Plotly = Plotly;\n",
       "        });\n",
       "        }\n",
       "        </script>\n",
       "        "
      ]
     },
     "metadata": {},
     "output_type": "display_data"
    },
    {
     "data": {
      "text/plain": [
       "'temp-plot.html'"
      ]
     },
     "execution_count": 21,
     "metadata": {},
     "output_type": "execute_result"
    }
   ],
   "source": [
    "import plotly.graph_objects as go\n",
    "from plotly.offline import init_notebook_mode\n",
    "\n",
    "init_notebook_mode(connected=True)\n",
    "plot(fig)"
   ]
  },
  {
   "cell_type": "code",
   "execution_count": 22,
   "metadata": {},
   "outputs": [
    {
     "data": {
      "text/plain": [
       "'temp-plot.html'"
      ]
     },
     "execution_count": 22,
     "metadata": {},
     "output_type": "execute_result"
    }
   ],
   "source": [
    "fig = fb.user_interventions_count_linechart(cumulative=True, title='User inteventions count (cumulative)')\n",
    "plot(fig)"
   ]
  },
  {
   "cell_type": "code",
   "execution_count": 14,
   "metadata": {},
   "outputs": [
    {
     "data": {
      "text/plain": [
       "'temp-plot.html'"
      ]
     },
     "execution_count": 14,
     "metadata": {},
     "output_type": "execute_result"
    }
   ],
   "source": [
    "fig = fb.user_interventions_count_linechart(msg_length=True, cumulative=True, title='Characters sent by user (cumulative)')\n",
    "plot(fig)"
   ]
  },
  {
   "cell_type": "code",
   "execution_count": 23,
   "metadata": {},
   "outputs": [
    {
     "data": {
      "text/plain": [
       "'temp-plot.html'"
      ]
     },
     "execution_count": 23,
     "metadata": {},
     "output_type": "execute_result"
    }
   ],
   "source": [
    "fig = fb.user_interventions_count_linechart(date_mode='weekday', title='User interventions count (weekly)', xlabel='Week day')\n",
    "plot(fig)"
   ]
  },
  {
   "cell_type": "code",
   "execution_count": 29,
   "metadata": {},
   "outputs": [
    {
     "name": "stdout",
     "output_type": "stream",
     "text": [
      "Voice Call Stats per Person:\n",
      "Empty DataFrame\n",
      "Columns: [total_minutes, call_count, total_hours]\n",
      "Index: []\n"
     ]
    },
    {
     "ename": "TypeError",
     "evalue": "no numeric data to plot",
     "output_type": "error",
     "traceback": [
      "\u001b[31m---------------------------------------------------------------------------\u001b[39m",
      "\u001b[31mTypeError\u001b[39m                                 Traceback (most recent call last)",
      "\u001b[36mCell\u001b[39m\u001b[36m \u001b[39m\u001b[32mIn[29]\u001b[39m\u001b[32m, line 26\u001b[39m\n\u001b[32m     23\u001b[39m \u001b[38;5;28mprint\u001b[39m(call_stats)\n\u001b[32m     25\u001b[39m \u001b[38;5;66;03m# 5. Plot: Total call minutes per person\u001b[39;00m\n\u001b[32m---> \u001b[39m\u001b[32m26\u001b[39m \u001b[43mcall_stats\u001b[49m\u001b[43m[\u001b[49m\u001b[33;43m'\u001b[39;49m\u001b[33;43mtotal_minutes\u001b[39;49m\u001b[33;43m'\u001b[39;49m\u001b[43m]\u001b[49m\u001b[43m.\u001b[49m\u001b[43mplot\u001b[49m\u001b[43m(\u001b[49m\u001b[43mkind\u001b[49m\u001b[43m=\u001b[49m\u001b[33;43m'\u001b[39;49m\u001b[33;43mbarh\u001b[39;49m\u001b[33;43m'\u001b[39;49m\u001b[43m,\u001b[49m\u001b[43m \u001b[49m\u001b[43mfigsize\u001b[49m\u001b[43m=\u001b[49m\u001b[43m(\u001b[49m\u001b[32;43m8\u001b[39;49m\u001b[43m,\u001b[49m\u001b[43m \u001b[49m\u001b[32;43m4\u001b[39;49m\u001b[43m)\u001b[49m\u001b[43m)\u001b[49m\n\u001b[32m     27\u001b[39m plt.xlabel(\u001b[33m\"\u001b[39m\u001b[33mTotal Minutes on Voice Calls\u001b[39m\u001b[33m\"\u001b[39m)\n\u001b[32m     28\u001b[39m plt.title(\u001b[33m\"\u001b[39m\u001b[33mVoice Call Duration by Person initiating\u001b[39m\u001b[33m\"\u001b[39m)\n",
      "\u001b[36mFile \u001b[39m\u001b[32m~/Library/Caches/pypoetry/virtualenvs/nico-Gtzyg3QP-py3.12/lib/python3.12/site-packages/pandas/plotting/_core.py:1030\u001b[39m, in \u001b[36mPlotAccessor.__call__\u001b[39m\u001b[34m(self, *args, **kwargs)\u001b[39m\n\u001b[32m   1027\u001b[39m             label_name = label_kw \u001b[38;5;129;01mor\u001b[39;00m data.columns\n\u001b[32m   1028\u001b[39m             data.columns = label_name\n\u001b[32m-> \u001b[39m\u001b[32m1030\u001b[39m \u001b[38;5;28;01mreturn\u001b[39;00m \u001b[43mplot_backend\u001b[49m\u001b[43m.\u001b[49m\u001b[43mplot\u001b[49m\u001b[43m(\u001b[49m\u001b[43mdata\u001b[49m\u001b[43m,\u001b[49m\u001b[43m \u001b[49m\u001b[43mkind\u001b[49m\u001b[43m=\u001b[49m\u001b[43mkind\u001b[49m\u001b[43m,\u001b[49m\u001b[43m \u001b[49m\u001b[43m*\u001b[49m\u001b[43m*\u001b[49m\u001b[43mkwargs\u001b[49m\u001b[43m)\u001b[49m\n",
      "\u001b[36mFile \u001b[39m\u001b[32m~/Library/Caches/pypoetry/virtualenvs/nico-Gtzyg3QP-py3.12/lib/python3.12/site-packages/pandas/plotting/_matplotlib/__init__.py:71\u001b[39m, in \u001b[36mplot\u001b[39m\u001b[34m(data, kind, **kwargs)\u001b[39m\n\u001b[32m     69\u001b[39m         kwargs[\u001b[33m\"\u001b[39m\u001b[33max\u001b[39m\u001b[33m\"\u001b[39m] = \u001b[38;5;28mgetattr\u001b[39m(ax, \u001b[33m\"\u001b[39m\u001b[33mleft_ax\u001b[39m\u001b[33m\"\u001b[39m, ax)\n\u001b[32m     70\u001b[39m plot_obj = PLOT_CLASSES[kind](data, **kwargs)\n\u001b[32m---> \u001b[39m\u001b[32m71\u001b[39m \u001b[43mplot_obj\u001b[49m\u001b[43m.\u001b[49m\u001b[43mgenerate\u001b[49m\u001b[43m(\u001b[49m\u001b[43m)\u001b[49m\n\u001b[32m     72\u001b[39m plot_obj.draw()\n\u001b[32m     73\u001b[39m \u001b[38;5;28;01mreturn\u001b[39;00m plot_obj.result\n",
      "\u001b[36mFile \u001b[39m\u001b[32m~/Library/Caches/pypoetry/virtualenvs/nico-Gtzyg3QP-py3.12/lib/python3.12/site-packages/pandas/plotting/_matplotlib/core.py:499\u001b[39m, in \u001b[36mMPLPlot.generate\u001b[39m\u001b[34m(self)\u001b[39m\n\u001b[32m    497\u001b[39m \u001b[38;5;129m@final\u001b[39m\n\u001b[32m    498\u001b[39m \u001b[38;5;28;01mdef\u001b[39;00m\u001b[38;5;250m \u001b[39m\u001b[34mgenerate\u001b[39m(\u001b[38;5;28mself\u001b[39m) -> \u001b[38;5;28;01mNone\u001b[39;00m:\n\u001b[32m--> \u001b[39m\u001b[32m499\u001b[39m     \u001b[38;5;28;43mself\u001b[39;49m\u001b[43m.\u001b[49m\u001b[43m_compute_plot_data\u001b[49m\u001b[43m(\u001b[49m\u001b[43m)\u001b[49m\n\u001b[32m    500\u001b[39m     fig = \u001b[38;5;28mself\u001b[39m.fig\n\u001b[32m    501\u001b[39m     \u001b[38;5;28mself\u001b[39m._make_plot(fig)\n",
      "\u001b[36mFile \u001b[39m\u001b[32m~/Library/Caches/pypoetry/virtualenvs/nico-Gtzyg3QP-py3.12/lib/python3.12/site-packages/pandas/plotting/_matplotlib/core.py:698\u001b[39m, in \u001b[36mMPLPlot._compute_plot_data\u001b[39m\u001b[34m(self)\u001b[39m\n\u001b[32m    696\u001b[39m \u001b[38;5;66;03m# no non-numeric frames or series allowed\u001b[39;00m\n\u001b[32m    697\u001b[39m \u001b[38;5;28;01mif\u001b[39;00m is_empty:\n\u001b[32m--> \u001b[39m\u001b[32m698\u001b[39m     \u001b[38;5;28;01mraise\u001b[39;00m \u001b[38;5;167;01mTypeError\u001b[39;00m(\u001b[33m\"\u001b[39m\u001b[33mno numeric data to plot\u001b[39m\u001b[33m\"\u001b[39m)\n\u001b[32m    700\u001b[39m \u001b[38;5;28mself\u001b[39m.data = numeric_data.apply(\u001b[38;5;28mtype\u001b[39m(\u001b[38;5;28mself\u001b[39m)._convert_to_ndarray)\n",
      "\u001b[31mTypeError\u001b[39m: no numeric data to plot"
     ]
    }
   ],
   "source": [
    "import pandas as pd\n",
    "import re\n",
    "import matplotlib.pyplot as plt\n",
    "\n",
    "# Ensure date column is datetime\n",
    "df['date'] = pd.to_datetime(df['date'])\n",
    "\n",
    "# 1. Filter only \"Voice call\" messages\n",
    "voice_calls = df[df['message'].str.lower().str.startswith(\"voice call\")].copy()\n",
    "\n",
    "\n",
    "voice_calls['duration_min'] = voice_calls['message'].apply(extract_call_duration)\n",
    "\n",
    "# 3. Aggregate by username\n",
    "call_stats = voice_calls.groupby('username')['duration_min'].agg(['sum', 'count']).rename(\n",
    "    columns={'sum': 'total_minutes', 'count': 'call_count'}\n",
    ")\n",
    "\n",
    "# 4. Add hours for convenience\n",
    "call_stats['total_hours'] = call_stats['total_minutes'] / 60\n",
    "\n",
    "print(\"Voice Call Stats per Person:\")\n",
    "print(call_stats)\n",
    "\n",
    "# 5. Plot: Total call minutes per person\n",
    "call_stats['total_minutes'].plot(kind='barh', figsize=(8, 4))\n",
    "plt.xlabel(\"Total Minutes on Voice Calls\")\n",
    "plt.title(\"Voice Call Duration by Person initiating\")\n",
    "plt.tight_layout()\n",
    "plt.show()"
   ]
  },
  {
   "cell_type": "code",
   "execution_count": 31,
   "metadata": {},
   "outputs": [
    {
     "data": {
      "text/html": [
       "<div>\n",
       "<style scoped>\n",
       "    .dataframe tbody tr th:only-of-type {\n",
       "        vertical-align: middle;\n",
       "    }\n",
       "\n",
       "    .dataframe tbody tr th {\n",
       "        vertical-align: top;\n",
       "    }\n",
       "\n",
       "    .dataframe thead th {\n",
       "        text-align: right;\n",
       "    }\n",
       "</style>\n",
       "<table border=\"1\" class=\"dataframe\">\n",
       "  <thead>\n",
       "    <tr style=\"text-align: right;\">\n",
       "      <th></th>\n",
       "      <th>date</th>\n",
       "      <th>username</th>\n",
       "      <th>message</th>\n",
       "      <th>clean_msg</th>\n",
       "    </tr>\n",
       "  </thead>\n",
       "  <tbody>\n",
       "  </tbody>\n",
       "</table>\n",
       "</div>"
      ],
      "text/plain": [
       "Empty DataFrame\n",
       "Columns: [date, username, message, clean_msg]\n",
       "Index: []"
      ]
     },
     "execution_count": 31,
     "metadata": {},
     "output_type": "execute_result"
    }
   ],
   "source": [
    "voice_calls = df[df['message'].str.lower().str.startswith(\"voice call\")].copy()\n",
    "voice_calls"
   ]
  },
  {
   "cell_type": "code",
   "execution_count": null,
   "metadata": {},
   "outputs": [
    {
     "data": {
      "text/html": [
       "<div>\n",
       "<style scoped>\n",
       "    .dataframe tbody tr th:only-of-type {\n",
       "        vertical-align: middle;\n",
       "    }\n",
       "\n",
       "    .dataframe tbody tr th {\n",
       "        vertical-align: top;\n",
       "    }\n",
       "\n",
       "    .dataframe thead th {\n",
       "        text-align: right;\n",
       "    }\n",
       "</style>\n",
       "<table border=\"1\" class=\"dataframe\">\n",
       "  <thead>\n",
       "    <tr style=\"text-align: right;\">\n",
       "      <th></th>\n",
       "      <th>date</th>\n",
       "      <th>username</th>\n",
       "      <th>message</th>\n",
       "      <th>clean_msg</th>\n",
       "    </tr>\n",
       "  </thead>\n",
       "  <tbody>\n",
       "    <tr>\n",
       "      <th>17</th>\n",
       "      <td>2023-12-11 15:51:02</td>\n",
       "      <td>Lenny</td>\n",
       "      <td>We’re home soon okay\\n‎[11.12.23, 16:21:39] Le...</td>\n",
       "      <td>we’re home soon okay\\n[11.12.23, 16:21:39] len...</td>\n",
       "    </tr>\n",
       "    <tr>\n",
       "      <th>54</th>\n",
       "      <td>2023-12-13 10:37:27</td>\n",
       "      <td>Lenny</td>\n",
       "      <td>Cutie\\n‎[13.12.23, 13:51:05] MuGPT Premium: ‎i...</td>\n",
       "      <td>cutie\\n[13.12.23, 13:51:05] mugpt premium: ima...</td>\n",
       "    </tr>\n",
       "    <tr>\n",
       "      <th>55</th>\n",
       "      <td>2023-12-13 15:00:17</td>\n",
       "      <td>Lenny</td>\n",
       "      <td>I would know something that would just fit in ...</td>\n",
       "      <td>i would know something that would just fit in ...</td>\n",
       "    </tr>\n",
       "    <tr>\n",
       "      <th>57</th>\n",
       "      <td>2023-12-13 15:45:09</td>\n",
       "      <td>Lenny</td>\n",
       "      <td>Is she even trying tho\\n‎[13.12.23, 19:20:08] ...</td>\n",
       "      <td>is she even trying tho\\n[13.12.23, 19:20:08] m...</td>\n",
       "    </tr>\n",
       "    <tr>\n",
       "      <th>61</th>\n",
       "      <td>2023-12-13 19:42:35</td>\n",
       "      <td>Lenny</td>\n",
       "      <td>Why are you sending this to meeee😭😭😭😭😂😂😂\\n‎[13...</td>\n",
       "      <td>why are you sending this to meeee😭😭😭😭😂😂😂\\n[13....</td>\n",
       "    </tr>\n",
       "    <tr>\n",
       "      <th>...</th>\n",
       "      <td>...</td>\n",
       "      <td>...</td>\n",
       "      <td>...</td>\n",
       "      <td>...</td>\n",
       "    </tr>\n",
       "    <tr>\n",
       "      <th>24676</th>\n",
       "      <td>2025-07-08 15:07:08</td>\n",
       "      <td>Lenny</td>\n",
       "      <td>Waiting downstairs\\n‎[08.07.25, 16:00:04] Lenn...</td>\n",
       "      <td>waiting downstairs\\n[08.07.25, 16:00:04] lenny...</td>\n",
       "    </tr>\n",
       "    <tr>\n",
       "      <th>24733</th>\n",
       "      <td>2025-07-10 13:27:19</td>\n",
       "      <td>Lenny</td>\n",
       "      <td>🙂‍↔️\\n‎[10.07.25, 14:08:51] MuGPT Premium: ‎im...</td>\n",
       "      <td>🙂‍↔️\\n[10.07.25, 14:08:51] mugpt premium: imag...</td>\n",
       "    </tr>\n",
       "    <tr>\n",
       "      <th>24771</th>\n",
       "      <td>2025-07-11 21:50:57</td>\n",
       "      <td>Lenny</td>\n",
       "      <td>Get a life\\n‎[11.07.25, 21:51:11] MuGPT Premiu...</td>\n",
       "      <td>get a life\\n[11.07.25, 21:51:11] mugpt premium...</td>\n",
       "    </tr>\n",
       "    <tr>\n",
       "      <th>25065</th>\n",
       "      <td>2025-07-17 16:57:56</td>\n",
       "      <td>Lenny</td>\n",
       "      <td>baby\\n‎[17.07.25, 16:57:57] Lenny: ‎image omitted</td>\n",
       "      <td>baby\\n[17.07.25, 16:57:57] lenny: image omitted</td>\n",
       "    </tr>\n",
       "    <tr>\n",
       "      <th>25089</th>\n",
       "      <td>2025-07-17 20:09:04</td>\n",
       "      <td>Lenny</td>\n",
       "      <td>No\\n‎[17.07.25, 20:27:54] MuGPT Premium: ‎imag...</td>\n",
       "      <td>no\\n[17.07.25, 20:27:54] mugpt premium: image ...</td>\n",
       "    </tr>\n",
       "  </tbody>\n",
       "</table>\n",
       "<p>593 rows × 4 columns</p>\n",
       "</div>"
      ],
      "text/plain": [
       "                     date username  \\\n",
       "17    2023-12-11 15:51:02    Lenny   \n",
       "54    2023-12-13 10:37:27    Lenny   \n",
       "55    2023-12-13 15:00:17    Lenny   \n",
       "57    2023-12-13 15:45:09    Lenny   \n",
       "61    2023-12-13 19:42:35    Lenny   \n",
       "...                   ...      ...   \n",
       "24676 2025-07-08 15:07:08    Lenny   \n",
       "24733 2025-07-10 13:27:19    Lenny   \n",
       "24771 2025-07-11 21:50:57    Lenny   \n",
       "25065 2025-07-17 16:57:56    Lenny   \n",
       "25089 2025-07-17 20:09:04    Lenny   \n",
       "\n",
       "                                                 message  \\\n",
       "17     We’re home soon okay\\n‎[11.12.23, 16:21:39] Le...   \n",
       "54     Cutie\\n‎[13.12.23, 13:51:05] MuGPT Premium: ‎i...   \n",
       "55     I would know something that would just fit in ...   \n",
       "57     Is she even trying tho\\n‎[13.12.23, 19:20:08] ...   \n",
       "61     Why are you sending this to meeee😭😭😭😭😂😂😂\\n‎[13...   \n",
       "...                                                  ...   \n",
       "24676  Waiting downstairs\\n‎[08.07.25, 16:00:04] Lenn...   \n",
       "24733  🙂‍↔️\\n‎[10.07.25, 14:08:51] MuGPT Premium: ‎im...   \n",
       "24771  Get a life\\n‎[11.07.25, 21:51:11] MuGPT Premiu...   \n",
       "25065  baby\\n‎[17.07.25, 16:57:57] Lenny: ‎image omitted   \n",
       "25089  No\\n‎[17.07.25, 20:27:54] MuGPT Premium: ‎imag...   \n",
       "\n",
       "                                               clean_msg  \n",
       "17     we’re home soon okay\\n[11.12.23, 16:21:39] len...  \n",
       "54     cutie\\n[13.12.23, 13:51:05] mugpt premium: ima...  \n",
       "55     i would know something that would just fit in ...  \n",
       "57     is she even trying tho\\n[13.12.23, 19:20:08] m...  \n",
       "61     why are you sending this to meeee😭😭😭😭😂😂😂\\n[13....  \n",
       "...                                                  ...  \n",
       "24676  waiting downstairs\\n[08.07.25, 16:00:04] lenny...  \n",
       "24733  🙂‍↔️\\n[10.07.25, 14:08:51] mugpt premium: imag...  \n",
       "24771  get a life\\n[11.07.25, 21:51:11] mugpt premium...  \n",
       "25065    baby\\n[17.07.25, 16:57:57] lenny: image omitted  \n",
       "25089  no\\n[17.07.25, 20:27:54] mugpt premium: image ...  \n",
       "\n",
       "[593 rows x 4 columns]"
      ]
     },
     "execution_count": 34,
     "metadata": {},
     "output_type": "execute_result"
    }
   ],
   "source": [
    "df.query(\"username == 'Lenny' and message.str.contains('image omitted', na=False)\", engine=\"python\")"
   ]
  },
  {
   "cell_type": "code",
   "execution_count": null,
   "metadata": {},
   "outputs": [
    {
     "data": {
      "text/html": [
       "<div>\n",
       "<style scoped>\n",
       "    .dataframe tbody tr th:only-of-type {\n",
       "        vertical-align: middle;\n",
       "    }\n",
       "\n",
       "    .dataframe tbody tr th {\n",
       "        vertical-align: top;\n",
       "    }\n",
       "\n",
       "    .dataframe thead th {\n",
       "        text-align: right;\n",
       "    }\n",
       "</style>\n",
       "<table border=\"1\" class=\"dataframe\">\n",
       "  <thead>\n",
       "    <tr style=\"text-align: right;\">\n",
       "      <th></th>\n",
       "      <th>date</th>\n",
       "      <th>username</th>\n",
       "      <th>message</th>\n",
       "      <th>clean_msg</th>\n",
       "    </tr>\n",
       "  </thead>\n",
       "  <tbody>\n",
       "    <tr>\n",
       "      <th>0</th>\n",
       "      <td>2023-12-11 10:06:14</td>\n",
       "      <td>MuGPT Premium</td>\n",
       "      <td>How's my bb</td>\n",
       "      <td>how's my bb</td>\n",
       "    </tr>\n",
       "    <tr>\n",
       "      <th>1</th>\n",
       "      <td>2023-12-11 10:06:17</td>\n",
       "      <td>MuGPT Premium</td>\n",
       "      <td>I just got back to Berlin\\n‎[11.12.23, 10:21:4...</td>\n",
       "      <td>i just got back to berlin\\n[11.12.23, 10:21:46...</td>\n",
       "    </tr>\n",
       "    <tr>\n",
       "      <th>2</th>\n",
       "      <td>2023-12-11 10:22:09</td>\n",
       "      <td>MuGPT Premium</td>\n",
       "      <td>Cutee</td>\n",
       "      <td>cutee</td>\n",
       "    </tr>\n",
       "    <tr>\n",
       "      <th>3</th>\n",
       "      <td>2023-12-11 10:22:16</td>\n",
       "      <td>MuGPT Premium</td>\n",
       "      <td>Jealous that the weather is so good</td>\n",
       "      <td>jealous that the weather is so good</td>\n",
       "    </tr>\n",
       "    <tr>\n",
       "      <th>4</th>\n",
       "      <td>2023-12-11 11:22:54</td>\n",
       "      <td>MuGPT Premium</td>\n",
       "      <td>Can you send me Dani's number?</td>\n",
       "      <td>can you send me dani's number?</td>\n",
       "    </tr>\n",
       "    <tr>\n",
       "      <th>...</th>\n",
       "      <td>...</td>\n",
       "      <td>...</td>\n",
       "      <td>...</td>\n",
       "      <td>...</td>\n",
       "    </tr>\n",
       "    <tr>\n",
       "      <th>25136</th>\n",
       "      <td>2025-07-18 12:06:13</td>\n",
       "      <td>Lenny</td>\n",
       "      <td>lets talk again after lunch depends on where I...</td>\n",
       "      <td>lets talk again after lunch depends on where i...</td>\n",
       "    </tr>\n",
       "    <tr>\n",
       "      <th>25137</th>\n",
       "      <td>2025-07-18 12:06:21</td>\n",
       "      <td>Lenny</td>\n",
       "      <td>when are we going to shin and ferdi</td>\n",
       "      <td>when are we going to shin and ferdi</td>\n",
       "    </tr>\n",
       "    <tr>\n",
       "      <th>25138</th>\n",
       "      <td>2025-07-18 12:06:26</td>\n",
       "      <td>MuGPT Premium</td>\n",
       "      <td>7?</td>\n",
       "      <td>7?</td>\n",
       "    </tr>\n",
       "    <tr>\n",
       "      <th>25139</th>\n",
       "      <td>2025-07-18 12:06:30</td>\n",
       "      <td>MuGPT Premium</td>\n",
       "      <td>it starts at 6</td>\n",
       "      <td>it starts at 6</td>\n",
       "    </tr>\n",
       "    <tr>\n",
       "      <th>25140</th>\n",
       "      <td>2025-07-18 12:15:25</td>\n",
       "      <td>Lenny</td>\n",
       "      <td>Sounds good ms bb</td>\n",
       "      <td>sounds good ms bb</td>\n",
       "    </tr>\n",
       "  </tbody>\n",
       "</table>\n",
       "<p>25141 rows × 4 columns</p>\n",
       "</div>"
      ],
      "text/plain": [
       "                     date       username  \\\n",
       "0     2023-12-11 10:06:14  MuGPT Premium   \n",
       "1     2023-12-11 10:06:17  MuGPT Premium   \n",
       "2     2023-12-11 10:22:09  MuGPT Premium   \n",
       "3     2023-12-11 10:22:16  MuGPT Premium   \n",
       "4     2023-12-11 11:22:54  MuGPT Premium   \n",
       "...                   ...            ...   \n",
       "25136 2025-07-18 12:06:13          Lenny   \n",
       "25137 2025-07-18 12:06:21          Lenny   \n",
       "25138 2025-07-18 12:06:26  MuGPT Premium   \n",
       "25139 2025-07-18 12:06:30  MuGPT Premium   \n",
       "25140 2025-07-18 12:15:25          Lenny   \n",
       "\n",
       "                                                 message  \\\n",
       "0                                            How's my bb   \n",
       "1      I just got back to Berlin\\n‎[11.12.23, 10:21:4...   \n",
       "2                                                  Cutee   \n",
       "3                    Jealous that the weather is so good   \n",
       "4                         Can you send me Dani's number?   \n",
       "...                                                  ...   \n",
       "25136  lets talk again after lunch depends on where I...   \n",
       "25137                when are we going to shin and ferdi   \n",
       "25138                                                 7?   \n",
       "25139                                     it starts at 6   \n",
       "25140                                  Sounds good ms bb   \n",
       "\n",
       "                                               clean_msg  \n",
       "0                                            how's my bb  \n",
       "1      i just got back to berlin\\n[11.12.23, 10:21:46...  \n",
       "2                                                  cutee  \n",
       "3                    jealous that the weather is so good  \n",
       "4                         can you send me dani's number?  \n",
       "...                                                  ...  \n",
       "25136  lets talk again after lunch depends on where i...  \n",
       "25137                when are we going to shin and ferdi  \n",
       "25138                                                 7?  \n",
       "25139                                     it starts at 6  \n",
       "25140                                  sounds good ms bb  \n",
       "\n",
       "[25141 rows x 4 columns]"
      ]
     },
     "execution_count": 35,
     "metadata": {},
     "output_type": "execute_result"
    }
   ],
   "source": [
    "d"
   ]
  },
  {
   "cell_type": "code",
   "execution_count": 26,
   "metadata": {},
   "outputs": [
    {
     "data": {
      "image/png": "[encoded data removed]",
      "text/plain": [
       "<Figure size 800x400 with 1 Axes>"
      ]
     },
     "metadata": {},
     "output_type": "display_data"
    },
    {
     "name": "stdout",
     "output_type": "stream",
     "text": [
      "Unsuccessful call attempts:\n",
      "\n",
      "call_direction\n",
      "MuGPT Premium → missed by Lenny    336\n",
      "Lenny → missed by MuGPT Premium      2\n",
      "Name: count, dtype: int64\n"
     ]
    }
   ],
   "source": [
    "import pandas as pd\n",
    "import matplotlib.pyplot as plt\n",
    "import re\n",
    "\n",
    "df['date'] = pd.to_datetime(df['date'])\n",
    "df['clean_msg'] = df['message'].apply(clean_message)\n",
    "\n",
    "missed_calls_df = df[df['clean_msg'].str.contains(\"voice call. no answer|missed voice call\")].copy()\n",
    "\n",
    "your_name = \"Lenny\"\n",
    "friend_name = \"MuGPT Premium\"\n",
    "\n",
    "\n",
    "missed_calls_df['call_direction'] = missed_calls_df.apply(\n",
    "    lambda row: classify_direction(row, your_name, friend_name), axis=1\n",
    ")\n",
    "\n",
    "counts = missed_calls_df['call_direction'].value_counts()\n",
    "\n",
    "counts = counts[counts.index != \"unknown\"]\n",
    "\n",
    "counts.plot(kind='barh', figsize=(8, 4))\n",
    "plt.title(\"Unsuccessful Voice Call Attempts\")\n",
    "plt.xlabel(\"Number of Calls\")\n",
    "plt.tight_layout()\n",
    "plt.show()\n",
    "\n",
    "# Print breakdown\n",
    "print(\"Unsuccessful call attempts:\\n\")\n",
    "print(counts)"
   ]
  },
  {
   "cell_type": "code",
   "execution_count": 27,
   "metadata": {},
   "outputs": [
    {
     "data": {
      "text/html": [
       "<div>\n",
       "<style scoped>\n",
       "    .dataframe tbody tr th:only-of-type {\n",
       "        vertical-align: middle;\n",
       "    }\n",
       "\n",
       "    .dataframe tbody tr th {\n",
       "        vertical-align: top;\n",
       "    }\n",
       "\n",
       "    .dataframe thead th {\n",
       "        text-align: right;\n",
       "    }\n",
       "</style>\n",
       "<table border=\"1\" class=\"dataframe\">\n",
       "  <thead>\n",
       "    <tr style=\"text-align: right;\">\n",
       "      <th></th>\n",
       "      <th>date</th>\n",
       "      <th>username</th>\n",
       "      <th>message</th>\n",
       "      <th>clean_msg</th>\n",
       "    </tr>\n",
       "  </thead>\n",
       "  <tbody>\n",
       "    <tr>\n",
       "      <th>0</th>\n",
       "      <td>2023-12-11 10:06:14</td>\n",
       "      <td>MuGPT Premium</td>\n",
       "      <td>How's my bb</td>\n",
       "      <td>how's my bb</td>\n",
       "    </tr>\n",
       "    <tr>\n",
       "      <th>1</th>\n",
       "      <td>2023-12-11 10:06:17</td>\n",
       "      <td>MuGPT Premium</td>\n",
       "      <td>I just got back to Berlin\\n‎[11.12.23, 10:21:4...</td>\n",
       "      <td>i just got back to berlin\\n[11.12.23, 10:21:46...</td>\n",
       "    </tr>\n",
       "    <tr>\n",
       "      <th>2</th>\n",
       "      <td>2023-12-11 10:22:09</td>\n",
       "      <td>MuGPT Premium</td>\n",
       "      <td>Cutee</td>\n",
       "      <td>cutee</td>\n",
       "    </tr>\n",
       "    <tr>\n",
       "      <th>3</th>\n",
       "      <td>2023-12-11 10:22:16</td>\n",
       "      <td>MuGPT Premium</td>\n",
       "      <td>Jealous that the weather is so good</td>\n",
       "      <td>jealous that the weather is so good</td>\n",
       "    </tr>\n",
       "    <tr>\n",
       "      <th>4</th>\n",
       "      <td>2023-12-11 11:22:54</td>\n",
       "      <td>MuGPT Premium</td>\n",
       "      <td>Can you send me Dani's number?</td>\n",
       "      <td>can you send me dani's number?</td>\n",
       "    </tr>\n",
       "  </tbody>\n",
       "</table>\n",
       "</div>"
      ],
      "text/plain": [
       "                 date       username  \\\n",
       "0 2023-12-11 10:06:14  MuGPT Premium   \n",
       "1 2023-12-11 10:06:17  MuGPT Premium   \n",
       "2 2023-12-11 10:22:09  MuGPT Premium   \n",
       "3 2023-12-11 10:22:16  MuGPT Premium   \n",
       "4 2023-12-11 11:22:54  MuGPT Premium   \n",
       "\n",
       "                                             message  \\\n",
       "0                                        How's my bb   \n",
       "1  I just got back to Berlin\\n‎[11.12.23, 10:21:4...   \n",
       "2                                              Cutee   \n",
       "3                Jealous that the weather is so good   \n",
       "4                     Can you send me Dani's number?   \n",
       "\n",
       "                                           clean_msg  \n",
       "0                                        how's my bb  \n",
       "1  i just got back to berlin\\n[11.12.23, 10:21:46...  \n",
       "2                                              cutee  \n",
       "3                jealous that the weather is so good  \n",
       "4                     can you send me dani's number?  "
      ]
     },
     "execution_count": 27,
     "metadata": {},
     "output_type": "execute_result"
    }
   ],
   "source": [
    "df.head()"
   ]
  },
  {
   "cell_type": "code",
   "execution_count": null,
   "metadata": {},
   "outputs": [],
   "source": []
  }
 ],
 "metadata": {
  "kernelspec": {
   "display_name": "nico-Gtzyg3QP-py3.12",
   "language": "python",
   "name": "python3"
  },
  "language_info": {
   "codemirror_mode": {
    "name": "ipython",
    "version": 3
   },
   "file_extension": ".py",
   "mimetype": "text/x-python",
   "name": "python",
   "nbconvert_exporter": "python",
   "pygments_lexer": "ipython3",
   "version": "3.12.2"
  }
 },
 "nbformat": 4,
 "nbformat_minor": 4
}
